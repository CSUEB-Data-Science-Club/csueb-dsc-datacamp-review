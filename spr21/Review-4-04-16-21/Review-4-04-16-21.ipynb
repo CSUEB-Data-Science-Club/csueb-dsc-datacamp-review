{
 "cells": [
  {
   "cell_type": "markdown",
   "metadata": {},
   "source": [
    "# Titanic Dataset  - CSUEB DSC: Data Processing \n",
    "\n",
    "Tying together DataCamp concepts with the current project\n",
    "\n",
    "<b>Overview:</b>\n",
    "> \"It's commonly said that data scientists spend 80% of their time cleaning and manipulating data and only 20% of their time analyzing it. The time spent cleaning is vital since analyzing dirty data can lead you to draw inaccurate conclusions. Data cleaning is an essential task in data science. Without properly cleaned data, the results of any data analysis or machine learning model could be inaccurate.\"\n",
    "\n",
    "<b>Challenge:</b><br>\n",
    "- Identify \"dirty\" data points and apply statistical techniques to remedy the problem."
   ]
  },
  {
   "cell_type": "markdown",
   "metadata": {},
   "source": [
    "# Imports"
   ]
  },
  {
   "cell_type": "code",
   "execution_count": 1,
   "metadata": {},
   "outputs": [],
   "source": [
    "import pandas as pd\n",
    "import seaborn as sns"
   ]
  },
  {
   "cell_type": "markdown",
   "metadata": {},
   "source": [
    "# Load Data into a DataFrame\n",
    "Task:\n",
    "Load the data into a DataFrame and assess the predictor-variables. \n",
    "\n",
    "Considerations:\n",
    "- Are the predictor variables discrete? Continuos? How many are continuos vs discrete?"
   ]
  },
  {
   "cell_type": "code",
   "execution_count": 2,
   "metadata": {},
   "outputs": [],
   "source": [
    "# data is provided in the \"input\" directory\n",
    "# add data loading code here"
   ]
  },
  {
   "cell_type": "markdown",
   "metadata": {},
   "source": [
    "# Diagnose Missing Data"
   ]
  },
  {
   "cell_type": "markdown",
   "metadata": {},
   "source": [
    "## Diagnose: Assess Missing Values [Task 1] "
   ]
  },
  {
   "cell_type": "code",
   "execution_count": 3,
   "metadata": {},
   "outputs": [],
   "source": [
    "# add code to address missing data"
   ]
  },
  {
   "cell_type": "markdown",
   "metadata": {},
   "source": [
    "## Diagnose: Plot  Predictor-Variables [Task 2] \n",
    "Task:\n",
    "- Create a plot of the distribution of the predictor variables using a histogram and a kernel density (KDE) plot\n",
    "- As a starting point consider the feature of values for \"Age\"\n",
    "\n",
    "Considerations:\n",
    "- Why choose a KDE over histogram? Histogram over KDE?\n",
    "- What does the KDE provide that the histogram does not?\n",
    "\n",
    "Refer to histogram and KDE section in the following URL:\n",
    "- https://seaborn.pydata.org/tutorial/distributions.html"
   ]
  },
  {
   "cell_type": "code",
   "execution_count": 4,
   "metadata": {},
   "outputs": [],
   "source": [
    "# add code to plot here starting with feature: \"Age\""
   ]
  },
  {
   "cell_type": "markdown",
   "metadata": {},
   "source": [
    "## Diagnose: Pre-process Analysis\n",
    "Task:\n",
    "- Analyze the data using plots. Make explicit the rationale/reasoning as well as considerations of potential outcomes when applying certain statistical techniques.\n",
    "\n",
    "Considerations:\n",
    "- What can be observed from the plots?\n",
    "- Is the data of a Gaussian? Why or why not?\n",
    "- Is the data a Gaussian mixture? Why or why not?\n",
    "- How may the Gaussian attibrute affect the resulting data after processing? \n",
    "- How would data of a Gaussian mixture affect the decision on techniques for filling in the missing values? \n",
    "- What are some considerations for normalizing a feature (Ex. Age)?\n",
    "- Does there exist any outliers?\n"
   ]
  },
  {
   "cell_type": "markdown",
   "metadata": {},
   "source": [
    "Add analysis here"
   ]
  },
  {
   "cell_type": "markdown",
   "metadata": {},
   "source": [
    "# Process Data\n",
    "After performing some initial observations on the dataset, we can proceed with cleaning the data. Time to impute some features..."
   ]
  },
  {
   "cell_type": "markdown",
   "metadata": {},
   "source": [
    "## Process Data: Mean [Task 1] \n",
    "Task: \n",
    "Apply statistical technique of using a dataset's mean for filling in instances of missing values. Store the result as a new feature labelled \"{var_name}_mean_adjusted\" in the existing DataFrame.\n",
    "\n",
    "Example:\n",
    "```python\n",
    "train[\"Age_mean_adjusted\"] = process_mean(train[\"Age\"])\n",
    "```\n"
   ]
  },
  {
   "cell_type": "code",
   "execution_count": 5,
   "metadata": {},
   "outputs": [],
   "source": [
    "# add code for filling in missing values using the feature's mean"
   ]
  },
  {
   "cell_type": "markdown",
   "metadata": {},
   "source": [
    "## Process Data: Median [Task 2] \n",
    "Task:\n",
    "Apply statistical technique of using a dataset's median for filling in instances of missing values. Store the result as a new feature labelled \"{var_name}_mean_adjusted\" in the existing DataFrame.\n",
    "\n",
    "\n",
    "Example:\n",
    "```python\n",
    "train[\"Age_median_adjusted\"] = process_median(train[\"Age\"])\n",
    "```\n"
   ]
  },
  {
   "cell_type": "code",
   "execution_count": 6,
   "metadata": {},
   "outputs": [],
   "source": [
    "# add code for filling in missing values using the feature's median"
   ]
  },
  {
   "cell_type": "markdown",
   "metadata": {},
   "source": [
    "# Post-Process"
   ]
  },
  {
   "cell_type": "markdown",
   "metadata": {},
   "source": [
    "## Post-Process: Plot Predictor Variables adjusted with Mean [Task 1] \n",
    "Task:\n",
    "- Apply plotting techniques using both a KDE and a histogram to visualize the changes in the feature distribution"
   ]
  },
  {
   "cell_type": "code",
   "execution_count": 7,
   "metadata": {},
   "outputs": [],
   "source": [
    "# add code for plotting the newly created predictor variable for \"Age_mean_adjusted\" here"
   ]
  },
  {
   "cell_type": "markdown",
   "metadata": {},
   "source": [
    "## Post-Process\n",
    ": Plot Predictor Variables adjusted with Median [Task 2] \n",
    "Task:\n",
    "- Apply plotting techniques using both a KDE and a histogram to visualize the changes in the feature distribution\n"
   ]
  },
  {
   "cell_type": "code",
   "execution_count": 8,
   "metadata": {},
   "outputs": [],
   "source": [
    "# add code for plotting the newly created predictor variable for \"Age_median_adjusted\" here"
   ]
  },
  {
   "cell_type": "code",
   "execution_count": null,
   "metadata": {},
   "outputs": [],
   "source": []
  }
 ],
 "metadata": {
  "kernelspec": {
   "display_name": "Python 3",
   "language": "python",
   "name": "python3"
  },
  "language_info": {
   "codemirror_mode": {
    "name": "ipython",
    "version": 3
   },
   "file_extension": ".py",
   "mimetype": "text/x-python",
   "name": "python",
   "nbconvert_exporter": "python",
   "pygments_lexer": "ipython3",
   "version": "3.8.5"
  }
 },
 "nbformat": 4,
 "nbformat_minor": 4
}
