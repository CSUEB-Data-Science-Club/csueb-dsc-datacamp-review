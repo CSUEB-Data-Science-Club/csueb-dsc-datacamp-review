{
 "cells": [
  {
   "cell_type": "markdown",
   "metadata": {},
   "source": [
    "# Titanic Dataset  - CSUEB DSC: Data Processing \n",
    "\n",
    "Tying together DataCamp concepts with the current project\n",
    "\n",
    "<b>Overview:</b>\n",
    "> \"It's commonly said that data scientists spend 80% of their time cleaning and manipulating data and only 20% of their time analyzing it. The time spent cleaning is vital since analyzing dirty data can lead you to draw inaccurate conclusions.\"<br><br> - Adel Nehme\n",
    "\n",
    "<b>Challenge:</b><br>\n",
    "- Identify problems in a dataset and apply statistical techniques to remedy the issues."
   ]
  },
  {
   "cell_type": "markdown",
   "metadata": {},
   "source": [
    "# Imports"
   ]
  },
  {
   "cell_type": "code",
   "execution_count": null,
   "metadata": {},
   "outputs": [],
   "source": [
    "import pandas as pd\n",
    "import seaborn as sns"
   ]
  },
  {
   "cell_type": "markdown",
   "metadata": {},
   "source": [
    "# Load Data into a DataFrame\n",
    "Task:\n",
    "Load the data into a DataFrame and assess the predictor-variables. \n",
    "\n",
    "Considerations:\n",
    "- Are the predictor variables discrete? Continuos? How many are continuos vs discrete?"
   ]
  },
  {
   "cell_type": "code",
   "execution_count": null,
   "metadata": {},
   "outputs": [],
   "source": [
    "# data is provided in the \"input\" directory\n",
    "# add data loading code here"
   ]
  },
  {
   "cell_type": "markdown",
   "metadata": {},
   "source": [
    "# Correlation (Pre-processing)"
   ]
  },
  {
   "cell_type": "markdown",
   "metadata": {},
   "source": [
    "## Correlation (Pre-processing): Target Variable vs Predictor Variables [Task 1] \n",
    "Task:\n",
    "- Plot a covariance matrix using a heatmap of the various predictor variables vs the target variable (Survived)\n",
    "\n",
    "Considerations:\n",
    "- What are your initial impressions of the heatmap?"
   ]
  },
  {
   "cell_type": "code",
   "execution_count": null,
   "metadata": {},
   "outputs": [],
   "source": [
    "# add heatmap code here"
   ]
  },
  {
   "cell_type": "markdown",
   "metadata": {},
   "source": [
    "# Diagnose Missing Data"
   ]
  },
  {
   "cell_type": "markdown",
   "metadata": {},
   "source": [
    "## Diagnose: Assess Missing Values [Task 2] "
   ]
  },
  {
   "cell_type": "code",
   "execution_count": null,
   "metadata": {},
   "outputs": [],
   "source": [
    "# add code to address missing data"
   ]
  },
  {
   "cell_type": "markdown",
   "metadata": {},
   "source": [
    "## Diagnose: Plot Predictor-Variables [Task 3] \n",
    "Task:\n",
    "- Create a plot of the distribution of the predictor variables using a histogram and a kernel density (KDE) plot\n",
    "- As a starting point consider the feature of values for \"Age\"\n",
    "\n",
    "Considerations:\n",
    "- Why choose a KDE over histogram? Histogram over KDE?\n",
    "- What does the KDE provide that the histogram does not?\n",
    "\n",
    "Reference material can be found in the histogram and KDE at: https://seaborn.pydata.org/tutorial/distributions.html"
   ]
  },
  {
   "cell_type": "code",
   "execution_count": null,
   "metadata": {},
   "outputs": [],
   "source": [
    "# add code to plot here starting with feature: \"Age\""
   ]
  },
  {
   "cell_type": "markdown",
   "metadata": {},
   "source": [
    "## Diagnose: Pre-process Analysis [Task 4]\n",
    "Task:\n",
    "- Analyze the data using plots. Make explicit the rationale/reasoning as well as considerations of potential outcomes when applying certain statistical techniques.\n",
    "\n",
    "Considerations:\n",
    "- What can be observed from the plots?\n",
    "- Is the data of a Gaussian? Why or why not?\n",
    "- Is the data a Gaussian mixture? Why or why not?\n",
    "- How may the Gaussian attibrute affect the resulting data after processing? \n",
    "- How would data of a Gaussian mixture affect the decision on techniques for filling in the missing values? \n",
    "- What are some considerations for normalizing a feature (Ex. Age)?\n",
    "- Does there exist any outliers?\n"
   ]
  },
  {
   "cell_type": "markdown",
   "metadata": {},
   "source": [
    "Add analysis here"
   ]
  },
  {
   "cell_type": "markdown",
   "metadata": {},
   "source": [
    "# Process Data\n",
    "After performing some initial observations on the dataset, we can proceed with cleaning the data. Time to impute some features..."
   ]
  },
  {
   "cell_type": "markdown",
   "metadata": {},
   "source": [
    "## Process Data: Mean [Task 5] \n",
    "Task: \n",
    "- Apply statistical technique of using a dataset's mean for filling in instances of missing values. Store the result as a new feature labelled \"{var_name}_mean_adjusted\" in the existing DataFrame.\n",
    "\n",
    "Example:\n",
    "```python\n",
    "train[\"Age_mean_adjusted\"] = process_mean(train[\"Age\"])\n",
    "```\n"
   ]
  },
  {
   "cell_type": "code",
   "execution_count": null,
   "metadata": {},
   "outputs": [],
   "source": [
    "# add code for filling in missing values using the feature's mean"
   ]
  },
  {
   "cell_type": "markdown",
   "metadata": {},
   "source": [
    "## Process Data: Median [Task 6] \n",
    "Task:\n",
    "- Apply statistical technique of using a dataset's median for filling in instances of missing values. Store the result as a new feature labelled \"{var_name}_mean_adjusted\" in the existing DataFrame.\n",
    "\n",
    "\n",
    "Example:\n",
    "```python\n",
    "train[\"Age_median_adjusted\"] = process_median(train[\"Age\"])\n",
    "```\n"
   ]
  },
  {
   "cell_type": "code",
   "execution_count": null,
   "metadata": {},
   "outputs": [],
   "source": [
    "# add code for filling in missing values using the feature's median"
   ]
  },
  {
   "cell_type": "markdown",
   "metadata": {},
   "source": [
    "# Post-Process"
   ]
  },
  {
   "cell_type": "markdown",
   "metadata": {},
   "source": [
    "## Post-Process: Plot Predictor Variables adjusted with Mean [Task 7] \n",
    "Task:\n",
    "- Apply plotting techniques using both a KDE and a histogram to visualize the changes in the feature distribution"
   ]
  },
  {
   "cell_type": "code",
   "execution_count": null,
   "metadata": {},
   "outputs": [],
   "source": [
    "# add code for plotting the newly created predictor variable for \"Age_mean_adjusted\" here"
   ]
  },
  {
   "cell_type": "markdown",
   "metadata": {},
   "source": [
    "## Post-Process: Plot Predictor Variables adjusted with Median [Task 8] \n",
    "Task:\n",
    "- Apply plotting techniques using both a KDE and a histogram to visualize the changes in the feature distribution\n"
   ]
  },
  {
   "cell_type": "code",
   "execution_count": null,
   "metadata": {},
   "outputs": [],
   "source": [
    "# add code for plotting the newly created predictor variable for \"Age_median_adjusted\" here"
   ]
  },
  {
   "cell_type": "markdown",
   "metadata": {},
   "source": [
    "## Post-Process: Correlation Target Variable vs Predictor Variables [Task 9]\n",
    "Task:\n",
    "- Plot a covariance matrix using a heatmap of the various predictor variables vs the target variable (Survived)\n",
    "\n",
    "Considerations:\n",
    "- What are your impressions of the heatmap after feature imputation?"
   ]
  },
  {
   "cell_type": "code",
   "execution_count": null,
   "metadata": {},
   "outputs": [],
   "source": [
    "# add heatmap code here"
   ]
  },
  {
   "cell_type": "markdown",
   "metadata": {},
   "source": [
    "# Conclusions\n",
    "Much of data cleaning is an iterative. Repetition of this procedure of analysis and transformation is needed to handle oversights in prior iterations. \n",
    "\n",
    "> \"Data cleaning is an essential task in data science. Without properly cleaned data, the results of any data analysis or machine learning model could be inaccurate.\"<br><br> - Adel Nehme\n",
    "\n"
   ]
  }
 ],
 "metadata": {
  "kernelspec": {
   "display_name": "Python 3",
   "language": "python",
   "name": "python3"
  },
  "language_info": {
   "codemirror_mode": {
    "name": "ipython",
    "version": 3
   },
   "file_extension": ".py",
   "mimetype": "text/x-python",
   "name": "python",
   "nbconvert_exporter": "python",
   "pygments_lexer": "ipython3",
   "version": "3.8.5"
  }
 },
 "nbformat": 4,
 "nbformat_minor": 4
}
