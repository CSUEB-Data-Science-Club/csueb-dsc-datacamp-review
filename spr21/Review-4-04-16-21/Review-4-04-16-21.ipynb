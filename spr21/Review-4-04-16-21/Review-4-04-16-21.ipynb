{
 "cells": [
  {
   "cell_type": "markdown",
   "metadata": {},
   "source": [
    "#  Cleaning the Titanic Dataset  - CSUEB DSC\n",
    "\n",
    "Tying together DataCamp concepts with the current project\n",
    "\n",
    "<b>Overview:</b>\n",
    "> \"It's commonly said that data scientists spend 80% of their time cleaning and manipulating data and only 20% of their time analyzing it. The time spent cleaning is vital since analyzing dirty data can lead you to draw inaccurate conclusions. Data cleaning is an essential task in data science. Without properly cleaned data, the results of any data analysis or machine learning model could be inaccurate.\"\n",
    "\n",
    "<b>Challenge:</b><br>\n",
    "- Identify \"dirty\" data points and apply statistical techniques to remedy the problem."
   ]
  },
  {
   "cell_type": "markdown",
   "metadata": {},
   "source": [
    "# Imports"
   ]
  },
  {
   "cell_type": "code",
   "execution_count": 1,
   "metadata": {},
   "outputs": [],
   "source": [
    "import pandas as pd\n",
    "import seaborn as sns"
   ]
  },
  {
   "cell_type": "markdown",
   "metadata": {},
   "source": [
    "# Load Data into a DataFrame"
   ]
  },
  {
   "cell_type": "code",
   "execution_count": 2,
   "metadata": {},
   "outputs": [],
   "source": [
    "# data is provided in the \"input\" directory\n",
    "# add data loading code here"
   ]
  },
  {
   "cell_type": "markdown",
   "metadata": {},
   "source": [
    "# Diagnose Missing Data"
   ]
  },
  {
   "cell_type": "markdown",
   "metadata": {},
   "source": [
    "## Diagnose: [Task 1] Assess Missing Values"
   ]
  },
  {
   "cell_type": "code",
   "execution_count": null,
   "metadata": {},
   "outputs": [],
   "source": [
    "# add code to address missing data"
   ]
  },
  {
   "cell_type": "markdown",
   "metadata": {},
   "source": [
    "## Diagnose: [Task 2] Plot  Predictor-Variables\n",
    "Task:\n",
    "- Create a plot of the distribution of the predictor variables using a histogram and a kernel density (KDE) plot\n",
    "- As a starting point consider the feature of values for \"Age\"\n",
    "\n",
    "Task Considerations:\n",
    "- Why choose a KDE over histogram? Histogram over KDE?\n",
    "- What does the KDE provide that the histogram does not?\n",
    "\n",
    "Refer to histogram and KDE section in the following URL:\n",
    "- https://seaborn.pydata.org/tutorial/distributions.html"
   ]
  },
  {
   "cell_type": "code",
   "execution_count": null,
   "metadata": {},
   "outputs": [],
   "source": [
    "# add code to plot here starting with feature: \"Age\""
   ]
  },
  {
   "cell_type": "markdown",
   "metadata": {},
   "source": [
    "## Diagnose: Pre-Clean Analysis\n",
    "Task:\n",
    "Analyze the data using plots. Make explicit the rationale/reasoning as well as considerations of potential outcomes when applying certain statistical techniques.\n",
    "\n",
    "- What can be observed from the plots?\n",
    "- Is the data of a Gaussian? Why or why not?\n",
    "- Is the data a Gaussian mixture? Why or why not?\n",
    "- How may the Gaussian attibrute affect the resulting data after processing? \n",
    "- How would data of a Gaussian mixture affect the decision on techniques for filling in the missing values? \n",
    "- What are some considerations for normalizing a feature (Ex. Age)?\n",
    "\n"
   ]
  },
  {
   "cell_type": "markdown",
   "metadata": {},
   "source": [
    "Add analysis here"
   ]
  },
  {
   "cell_type": "markdown",
   "metadata": {},
   "source": [
    "# Clean/Process Data\n",
    "After performing some initial observations on the dataset, we can proceed clean the data. Time to impute some features."
   ]
  },
  {
   "cell_type": "code",
   "execution_count": null,
   "metadata": {},
   "outputs": [],
   "source": []
  }
 ],
 "metadata": {
  "kernelspec": {
   "display_name": "Python 3",
   "language": "python",
   "name": "python3"
  },
  "language_info": {
   "codemirror_mode": {
    "name": "ipython",
    "version": 3
   },
   "file_extension": ".py",
   "mimetype": "text/x-python",
   "name": "python",
   "nbconvert_exporter": "python",
   "pygments_lexer": "ipython3",
   "version": "3.8.5"
  }
 },
 "nbformat": 4,
 "nbformat_minor": 4
}
