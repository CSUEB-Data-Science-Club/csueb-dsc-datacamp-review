{
 "cells": [
  {
   "cell_type": "code",
   "execution_count": 1,
   "metadata": {},
   "outputs": [],
   "source": [
    "# Data Science Toolbox (Part 1)"
   ]
  },
  {
   "cell_type": "markdown",
   "metadata": {},
   "source": [
    "### Inner & Outer Functions"
   ]
  },
  {
   "cell_type": "code",
   "execution_count": 2,
   "metadata": {},
   "outputs": [
    {
     "name": "stdout",
     "output_type": "stream",
     "text": [
      "called from outer\n",
      "called from inner\n"
     ]
    }
   ],
   "source": [
    "def outer(*args):\n",
    "    print(\"called from outer\")\n",
    "    def inner(args):\n",
    "        print(\"called from inner\")\n",
    "    inner(args)\n",
    "    \n",
    "# calling outer function    \n",
    "outer()\n",
    "          "
   ]
  },
  {
   "cell_type": "markdown",
   "metadata": {},
   "source": [
    "### Args & Kwargs\n",
    "* Args: usage of packing operator '*'\n",
    "* Kwargs: usage of double packing operators '**'\n"
   ]
  },
  {
   "cell_type": "code",
   "execution_count": 3,
   "metadata": {},
   "outputs": [
    {
     "name": "stdout",
     "output_type": "stream",
     "text": [
      "type: <class 'tuple'>\n",
      "# of arguments packed: 5\n",
      "arguments: (1, 3, 4, 5, 6)\n"
     ]
    }
   ],
   "source": [
    "def foo(*args):\n",
    "    print(\"type:\",type(args))\n",
    "    print(\"# of arguments packed:\", len(args))\n",
    "    print(\"arguments:\", args)\n",
    "foo(1,3,4,5,6)"
   ]
  },
  {
   "cell_type": "markdown",
   "metadata": {},
   "source": [
    "Allows for packing of arguments of an arbitary size"
   ]
  },
  {
   "cell_type": "code",
   "execution_count": 4,
   "metadata": {},
   "outputs": [
    {
     "name": "stdout",
     "output_type": "stream",
     "text": [
      "type: <class 'dict'>\n",
      "# of arguments packed: 3\n",
      "arguments: {'x': 3, 'y': 5, 'z': 7}\n"
     ]
    }
   ],
   "source": [
    "def foo(**kwargs):\n",
    "    print(\"type:\",type(kwargs))\n",
    "    print(\"# of arguments packed:\", len(kwargs))\n",
    "    print(\"arguments:\", kwargs)\n",
    "foo(x=3, y=5, z=7)"
   ]
  },
  {
   "cell_type": "markdown",
   "metadata": {},
   "source": [
    "Allows for passage of keyword arguments without the need for explicit -- boiler plate definition in the function parameter section"
   ]
  },
  {
   "cell_type": "markdown",
   "metadata": {},
   "source": [
    "### Map"
   ]
  },
  {
   "cell_type": "markdown",
   "metadata": {},
   "source": [
    "Given a list of strings: <br>\n",
    "```sh\n",
    "items = [\"protego\", \"accio\", \"expecto patronum\", \"legilimens\"]<br>\n",
    "```\n",
    "Use python's <b>map</b> function to apply a <b>lambda function f</b> to append \"!!!\" to each string element in the list.<br>\n",
    "Ex. <br>\n",
    "f(items[0]) = \"protego!!!\"<br>"
   ]
  },
  {
   "cell_type": "code",
   "execution_count": 5,
   "metadata": {},
   "outputs": [
    {
     "name": "stdout",
     "output_type": "stream",
     "text": [
      "<class 'map'>\n",
      "<map object at 0x000001903EE939D0>\n",
      "['protego!!!', 'accio!!!', 'expecto patronum!!!', 'legilimens!!!']\n"
     ]
    }
   ],
   "source": [
    "# Create a list of strings: spells\n",
    "spells = [\"protego\", \"accio\", \"expecto patronum\", \"legilimens\"]\n",
    "\n",
    "# Use map() to apply a lambda function over spells: shout_spells\n",
    "shout_spells = map(lambda spell: spell + \"!!!\", spells)\n",
    "print(type(shout_spells))\n",
    "print(shout_spells)\n",
    "# Convert shout_spells to a list: shout_spells_list\n",
    "shout_spells_list = list(shout_spells)\n",
    "\n",
    "# Print the result\n",
    "print(shout_spells_list)"
   ]
  },
  {
   "cell_type": "markdown",
   "metadata": {},
   "source": [
    "<img src=\"map-str-example.png\"\n",
    "     style=\"float: left; margin-right: 10px;\" />\n"
   ]
  },
  {
   "cell_type": "markdown",
   "metadata": {},
   "source": [
    "Given a list of strings: <br>\n",
    "```sh\n",
    "int_list = [1,3,3,7]\n",
    "```\n",
    "Use python's <b>map</b> function to apply a <b>lambda function f</b> to increment each integer element in the list by a value of 1.<br>\n",
    "Ex. <br>\n",
    "f(int_list[0]) = 2<br>"
   ]
  },
  {
   "cell_type": "code",
   "execution_count": 6,
   "metadata": {},
   "outputs": [
    {
     "name": "stdout",
     "output_type": "stream",
     "text": [
      "[2, 4, 4, 8]\n"
     ]
    }
   ],
   "source": [
    "# Create a list of integers\n",
    "int_list = [1,3,3,7]\n",
    "\n",
    "# Use map() to apply a lambda function f for each element in the list\n",
    "f = lambda x: x + 1\n",
    "result = map(f, int_list)\n",
    "# Convert shout_spells to a list: shout_spells_list\n",
    "result_list = list(result)\n",
    "\n",
    "# Print the result\n",
    "print(result_list)"
   ]
  },
  {
   "cell_type": "markdown",
   "metadata": {},
   "source": [
    "<img src=\"map-example.png\"\n",
    "     style=\"float: left; margin-right: 10px;\" />\n"
   ]
  },
  {
   "cell_type": "code",
   "execution_count": 7,
   "metadata": {},
   "outputs": [
    {
     "name": "stdout",
     "output_type": "stream",
     "text": [
      "map(func, *iterables) --> map object\n",
      "\n",
      "Make an iterator that computes the function using arguments from\n",
      "each of the iterables.  Stops when the shortest iterable is exhausted.\n"
     ]
    }
   ],
   "source": [
    "print(map.__doc__)"
   ]
  },
  {
   "cell_type": "code",
   "execution_count": 12,
   "metadata": {},
   "outputs": [
    {
     "data": {
      "text/plain": [
       "int"
      ]
     },
     "execution_count": 12,
     "metadata": {},
     "output_type": "execute_result"
    }
   ],
   "source": [
    "type(result)"
   ]
  },
  {
   "cell_type": "code",
   "execution_count": null,
   "metadata": {},
   "outputs": [],
   "source": [
    "list(result)"
   ]
  },
  {
   "cell_type": "markdown",
   "metadata": {},
   "source": [
    "### Filter"
   ]
  },
  {
   "cell_type": "markdown",
   "metadata": {},
   "source": [
    "Given a list of strings: <br>\n",
    "```sh\n",
    "fellowship = ['frodo', 'samwise', 'merry', 'pippin', 'aragorn', 'boromir', 'legolas', 'gimli', 'gandalf']\n",
    "```\n",
    "Use python's <b>filter</b> function to apply a <b>lambda function f</b> to create a list of boolean values where True is the case <b>if the length of the element is greater than 6</b> else False.<br>\n",
    "Ex. <br>\n",
    "f(fellowship[0]) = len('frodo') > 6 = False<br>"
   ]
  },
  {
   "cell_type": "code",
   "execution_count": 9,
   "metadata": {},
   "outputs": [
    {
     "name": "stdout",
     "output_type": "stream",
     "text": [
      "['samwise', 'aragorn', 'boromir', 'legolas', 'gandalf']\n"
     ]
    }
   ],
   "source": [
    "# Create a list of strings: fellowship\n",
    "fellowship = ['frodo', 'samwise', 'merry', 'pippin', 'aragorn', 'boromir', 'legolas', 'gimli', 'gandalf']\n",
    "\n",
    "# Use filter() to apply a lambda function over fellowship: result\n",
    "result = filter(lambda x: True if len(x) > 6 else False, fellowship)\n",
    "\n",
    "# Convert result to a list: result_list\n",
    "result_list = list(result)\n",
    "\n",
    "# Print result_list\n",
    "print(result_list)"
   ]
  },
  {
   "cell_type": "markdown",
   "metadata": {},
   "source": [
    "### Reduce"
   ]
  },
  {
   "cell_type": "markdown",
   "metadata": {},
   "source": [
    "Given a list of strings: <br>\n",
    "```sh\n",
    "stark = ['robb', 'sansa', 'arya', 'brandon', 'rickon']\n",
    "```\n",
    "Use python's <b>reduce</b> function to apply a <b>lambda function f</b> to reduce a collection of strings, stark,  to one string value<br>\n",
    "Ex. <br>\n",
    "f(stark) = \"robbsansaaryabrandonrickon\"<br>"
   ]
  },
  {
   "cell_type": "code",
   "execution_count": 13,
   "metadata": {},
   "outputs": [
    {
     "name": "stdout",
     "output_type": "stream",
     "text": [
      "robbsansaaryabrandonrickon\n"
     ]
    }
   ],
   "source": [
    "# Import reduce from functools\n",
    "from functools import reduce\n",
    "\n",
    "# Create a list of strings: stark\n",
    "stark = ['robb', 'sansa', 'arya', 'brandon', 'rickon']\n",
    "\n",
    "# Use reduce() to apply a lambda function over stark: result\n",
    "result = reduce(lambda x,y: x+y, stark)\n",
    "\n",
    "# Print the result\n",
    "print(result)"
   ]
  },
  {
   "cell_type": "code",
   "execution_count": 14,
   "metadata": {},
   "outputs": [
    {
     "name": "stdout",
     "output_type": "stream",
     "text": [
      "robbsansaaryabrandonrickon\n"
     ]
    }
   ],
   "source": [
    "empty_str = \"\"\n",
    "for e in stark:\n",
    "    empty_str += e\n",
    "print(empty_str)"
   ]
  },
  {
   "cell_type": "code",
   "execution_count": 15,
   "metadata": {},
   "outputs": [
    {
     "name": "stdout",
     "output_type": "stream",
     "text": [
      "15\n"
     ]
    }
   ],
   "source": [
    "# Import reduce from functools\n",
    "from functools import reduce\n",
    "\n",
    "# Create a list of strings: stark\n",
    "stark = [1,3,3,8]\n",
    "\n",
    "# Use reduce() to apply a lambda function over stark: result\n",
    "result = reduce(lambda x,y: x+y, stark)\n",
    "\n",
    "# Print the result\n",
    "print(result)"
   ]
  },
  {
   "cell_type": "code",
   "execution_count": 16,
   "metadata": {},
   "outputs": [
    {
     "name": "stdout",
     "output_type": "stream",
     "text": [
      "15\n"
     ]
    }
   ],
   "source": [
    "summed = 0\n",
    "for e in stark:\n",
    "    summed += e\n",
    "print(summed)"
   ]
  },
  {
   "cell_type": "markdown",
   "metadata": {},
   "source": [
    "<img src=\"reduce-example.png\"\n",
    "     style=\"float: left; margin-right: 10px;\" />\n"
   ]
  }
 ],
 "metadata": {
  "kernelspec": {
   "display_name": "Python 3",
   "language": "python",
   "name": "python3"
  },
  "language_info": {
   "codemirror_mode": {
    "name": "ipython",
    "version": 3
   },
   "file_extension": ".py",
   "mimetype": "text/x-python",
   "name": "python",
   "nbconvert_exporter": "python",
   "pygments_lexer": "ipython3",
   "version": "3.8.5"
  }
 },
 "nbformat": 4,
 "nbformat_minor": 4
}
