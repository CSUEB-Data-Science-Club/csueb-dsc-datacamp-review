{
 "cells": [
  {
   "cell_type": "code",
   "execution_count": 1,
   "metadata": {},
   "outputs": [],
   "source": [
    "import numpy as np\n",
    "from matplotlib import pyplot as plt\n",
    "import pandas as pd\n",
    "import seaborn as sns"
   ]
  },
  {
   "cell_type": "markdown",
   "metadata": {},
   "source": [
    "Problems referenced from: https://elephantscale.github.io/\n",
    "For more problems visit the link above."
   ]
  },
  {
   "cell_type": "markdown",
   "metadata": {},
   "source": [
    "# B2 - Create a numpy array of numbers from 1 to 10. Print out elements after index 2 (★☆☆)\n",
    "Hint: np.arange and [2:]<br>\n",
    "Expected result: [3,4,5,6,7,8,9,10]<br>"
   ]
  },
  {
   "cell_type": "code",
   "execution_count": 2,
   "metadata": {},
   "outputs": [
    {
     "data": {
      "text/plain": [
       "array([ 1,  2,  3,  4,  5,  6,  7,  8,  9, 10])"
      ]
     },
     "execution_count": 2,
     "metadata": {},
     "output_type": "execute_result"
    }
   ],
   "source": [
    "numbers = np.arange(1,11)\n",
    "numbers[2:]\n",
    "numbers\n"
   ]
  },
  {
   "cell_type": "markdown",
   "metadata": {},
   "source": [
    "Numpy's arange function operates very similarly to that of python's builtin range function. The function returns a sequence of values starting from the starting value terminating at the ending value, where the specified ending value is not included in the sequence of values returned. Slicing operates similarly to that of Python lists, tuples, & sets. \n"
   ]
  },
  {
   "cell_type": "markdown",
   "metadata": {},
   "source": [
    "D2 - Create a multi-dimensional 3x3x3 array with random numbers between 1 and 10. Print out the sum of all elemenets (★★☆)<br>\n",
    "Hint: np.sum<br>"
   ]
  },
  {
   "cell_type": "code",
   "execution_count": 3,
   "metadata": {},
   "outputs": [
    {
     "name": "stdout",
     "output_type": "stream",
     "text": [
      "[[[10  3  5]\n",
      "  [ 2  3  4]\n",
      "  [ 8  4  2]]\n",
      "\n",
      " [[ 6  3  8]\n",
      "  [ 6  2  8]\n",
      "  [ 4  3  4]]\n",
      "\n",
      " [[ 5  3  6]\n",
      "  [ 8  8  6]\n",
      "  [ 2 10  7]]]\n"
     ]
    },
    {
     "data": {
      "text/plain": [
       "140"
      ]
     },
     "execution_count": 3,
     "metadata": {},
     "output_type": "execute_result"
    }
   ],
   "source": [
    "m = np.random.randint(1,11,[3,3,3])\n",
    "print(m)\n",
    "np.sum(m)\n"
   ]
  },
  {
   "cell_type": "markdown",
   "metadata": {},
   "source": [
    "Numpy's random.randint function generates a random value between the given starting value and terminating value. Note that the starting value and terminating values behave similarly to that of numpy's arange as well as python's builtin range behavior when defining an interval $[v_0, v_f)$. Starting values are defined as an existing value in the sequence, while terminating values do no exist in the sequence. <br>\n",
    "\n",
    "Lastly, randint accepts an array-like input for defining the shape of the n-d array. Tuples & lists are acceptable shape inputs."
   ]
  },
  {
   "cell_type": "markdown",
   "metadata": {},
   "source": [
    "# Create the following dataframe (★☆☆)<br>\n",
    "## Part 1)<br>\n",
    "Expected output:<br>\n",
    "           city  \t\tpopulation  \trainfall<br>\n",
    "0       \tSan Jose          \t10      \t15.5<br>\n",
    "1  \tSan Francisco          \t 5      \t10.2<br>\n",
    "2    \tLos Angeles          \t30       5.5<br>\n",
    "3        \tSeattle           \t\t7      \t50.5<br><br>\n",
    "## Part 2) <br>\n",
    "Create a bar chart using the data from A4 plotting the city vs rainfall.<br>"
   ]
  },
  {
   "cell_type": "code",
   "execution_count": 4,
   "metadata": {},
   "outputs": [],
   "source": [
    "# part 1\n",
    "data_dict = {\n",
    "    \"city\": [\"San Jose\", \"San Francisco\", \"Los Angeles\", \"Seattle\"],\n",
    "    \"population\": [10, 5, 30, 7],\n",
    "    \"rainfall\": [15.5, 10.2, 5.5, 50.5]\n",
    "}"
   ]
  },
  {
   "cell_type": "markdown",
   "metadata": {},
   "source": [
    "Create a dictionary of lists. Recalling from the pandas docs, instantiation of a pandas.DataFrame can be done in multitple approaches. This approach allows one to define column names as keys, while values are defined to be a list/tuple. Note that order of elements in the lists are important because they correspond to each row."
   ]
  },
  {
   "cell_type": "code",
   "execution_count": 5,
   "metadata": {},
   "outputs": [
    {
     "data": {
      "text/html": [
       "<div>\n",
       "<style scoped>\n",
       "    .dataframe tbody tr th:only-of-type {\n",
       "        vertical-align: middle;\n",
       "    }\n",
       "\n",
       "    .dataframe tbody tr th {\n",
       "        vertical-align: top;\n",
       "    }\n",
       "\n",
       "    .dataframe thead th {\n",
       "        text-align: right;\n",
       "    }\n",
       "</style>\n",
       "<table border=\"1\" class=\"dataframe\">\n",
       "  <thead>\n",
       "    <tr style=\"text-align: right;\">\n",
       "      <th></th>\n",
       "      <th>city</th>\n",
       "      <th>population</th>\n",
       "      <th>rainfall</th>\n",
       "    </tr>\n",
       "  </thead>\n",
       "  <tbody>\n",
       "    <tr>\n",
       "      <th>0</th>\n",
       "      <td>San Jose</td>\n",
       "      <td>10</td>\n",
       "      <td>15.5</td>\n",
       "    </tr>\n",
       "    <tr>\n",
       "      <th>1</th>\n",
       "      <td>San Francisco</td>\n",
       "      <td>5</td>\n",
       "      <td>10.2</td>\n",
       "    </tr>\n",
       "    <tr>\n",
       "      <th>2</th>\n",
       "      <td>Los Angeles</td>\n",
       "      <td>30</td>\n",
       "      <td>5.5</td>\n",
       "    </tr>\n",
       "    <tr>\n",
       "      <th>3</th>\n",
       "      <td>Seattle</td>\n",
       "      <td>7</td>\n",
       "      <td>50.5</td>\n",
       "    </tr>\n",
       "  </tbody>\n",
       "</table>\n",
       "</div>"
      ],
      "text/plain": [
       "            city  population  rainfall\n",
       "0       San Jose          10      15.5\n",
       "1  San Francisco           5      10.2\n",
       "2    Los Angeles          30       5.5\n",
       "3        Seattle           7      50.5"
      ]
     },
     "execution_count": 5,
     "metadata": {},
     "output_type": "execute_result"
    }
   ],
   "source": [
    "df = pd.DataFrame(data_dict)\n",
    "df"
   ]
  },
  {
   "cell_type": "markdown",
   "metadata": {},
   "source": [
    "Pass the data into the pandas.DataFrameas an argument to create the instance"
   ]
  },
  {
   "cell_type": "code",
   "execution_count": 6,
   "metadata": {},
   "outputs": [
    {
     "data": {
      "image/png": "[encoded data removed]",
      "text/plain": [
       "<Figure size 432x288 with 1 Axes>"
      ]
     },
     "metadata": {
      "needs_background": "light"
     },
     "output_type": "display_data"
    }
   ],
   "source": [
    "# part 2\n",
    "plt.bar(x=df[\"city\"], height=df['rainfall'])\n",
    "plt.title(\"City VS RainFall\")\n",
    "plt.xlabel(\"City\")\n",
    "plt.ylabel(\"Rainfall\")\n",
    "plt.show()\n",
    "# print(plt.bar.__doc__) # method of looking at documentation without access to the web"
   ]
  },
  {
   "cell_type": "markdown",
   "metadata": {},
   "source": [
    "# Ex-1 - Work with 2 lists (★★☆)<br>\n",
    "a = [1,5,2,10,7,4,6]<br>\n",
    "b = [1,4,3]<br>\n",
    "## Part 1\n",
    "Print all numbers common to a and b (★★☆)<br>\n",
    "## Part 2\n",
    "Print all numbers unique to a (not in b) (★★☆)<br>"
   ]
  },
  {
   "cell_type": "code",
   "execution_count": 7,
   "metadata": {},
   "outputs": [
    {
     "name": "stdout",
     "output_type": "stream",
     "text": [
      "Common in A and B:\n",
      "List Comprehension [1, 4]\n",
      "Set Approach {1, 4}\n",
      "Unique to A:\n",
      "List Comprehension: [2, 5, 6, 7, 10]\n",
      "Set Approach: {2, 5, 6, 7, 10}\n"
     ]
    }
   ],
   "source": [
    "a = [1,5,2,10,7,4,6]\n",
    "b = [1,4,3]\n",
    "\n",
    "print(\"Common in A and B:\")\n",
    "# print common in a and b\n",
    "# list comprehension & if condition appraoch\n",
    "common = [e for e in a if e in b]\n",
    "print(\"List Comprehension\",common)\n",
    "\n",
    "# set approach\n",
    "a = set(a)\n",
    "b = set(b)\n",
    "common = b.intersection(a) \n",
    "print(\"Set Approach\",common)\n",
    "\n",
    "print(\"Unique to A:\")\n",
    "unique = [e for e in a if e not in b]\n",
    "print(\"List Comprehension:\", unique)\n",
    "\n",
    "unique = a.difference(b)\n",
    "print(\"Set Approach:\", unique)\n",
    "# print(a.intersection(b))"
   ]
  },
  {
   "cell_type": "markdown",
   "metadata": {},
   "source": [
    "Note that this method assumes each list to be a set which makes sense if one is only interested in the single occurence of unique values existing in both collections. This method is more understandable if one is familiar with sets in math and even provides commonly used syntax from set theory. Intersection algo runs at O(min(len(a),len(b))), therefore in this problem it'd be O(3). Alternative & naive brute-force approaches are explored in the following sections."
   ]
  },
  {
   "cell_type": "code",
   "execution_count": 8,
   "metadata": {},
   "outputs": [
    {
     "name": "stdout",
     "output_type": "stream",
     "text": [
      "1 1\n",
      "1 1\n",
      "1 1\n",
      "1 1\n",
      "4 4\n",
      "[(1, 1), (1, 1), (1, 1), (1, 1), (4, 4)]\n"
     ]
    }
   ],
   "source": [
    "intersections = []\n",
    "a = [1,1,1,1,5,2,10,7,4,6]\n",
    "b = [1,4,3]\n",
    "for elem_a in a:\n",
    "    for elem_b in b:\n",
    "        if elem_a == elem_b:\n",
    "            print(elem_a,elem_b)\n",
    "            intersections.append((elem_a,elem_b))\n",
    "print(intersections)"
   ]
  },
  {
   "cell_type": "markdown",
   "metadata": {},
   "source": [
    "Another method of approaching the problem that accounts for repetition at the cost of operating at a slower computational rate of O(n^2) as a result of the nested for loops. A"
   ]
  },
  {
   "cell_type": "code",
   "execution_count": 9,
   "metadata": {},
   "outputs": [
    {
     "data": {
      "text/plain": [
       "[(1, 1), (1, 1), (1, 1), (1, 1), (4, 4)]"
      ]
     },
     "execution_count": 9,
     "metadata": {},
     "output_type": "execute_result"
    }
   ],
   "source": [
    "intersections = [(elem_a, elem_b) for elem_b in b for elem_a in a if elem_a == elem_b]\n",
    "intersections"
   ]
  },
  {
   "cell_type": "markdown",
   "metadata": {},
   "source": [
    "Alternative solution of accounting for repititions still running at O(n^2) while running slightly faster because of the one-line declaration. The Python JIT compiler is able to interpret the one line and compile to the needed lower level code to run. This does some at a slight cost of syntax as it crams for-loops and conditionals into a list all in one-line."
   ]
  },
  {
   "cell_type": "code",
   "execution_count": 10,
   "metadata": {},
   "outputs": [
    {
     "data": {
      "text/plain": [
       "{(1, 1), (4, 4)}"
      ]
     },
     "execution_count": 10,
     "metadata": {},
     "output_type": "execute_result"
    }
   ],
   "source": [
    "intersections = set([(elem_a, elem_b) for elem_b in b for elem_a in a if elem_a == elem_b])\n",
    "intersections"
   ]
  },
  {
   "cell_type": "markdown",
   "metadata": {},
   "source": [
    "The alternative if simply interested in the unique occurence ran at O(n^2) because of the naive brute-force approach of the nesting for-loops. Claims of JIT compiler being significant are in my opinion subjective; however, I have been taught that the number of lines in a python program are things to consider because as mentioned before, the just-in-time (JIT) compiler is reading each line from which it converts into runnable code bytes before moving onto the next line. This would be a fun experiment to benchmark. "
   ]
  },
  {
   "cell_type": "markdown",
   "metadata": {},
   "source": [
    "# B2\n",
    "Get the frequency of the elements in a list (★★☆)<br>\n",
    "For example if the list is<br>\n",
    "['a', 'b', 'a', 'c', 'b', 'a'] <br>\n",
    "Expected output is :<br>\n",
    " 'a' -> 3,<br>\n",
    "  'b' -> 2,<br>\n",
    "  'c' -> 1<br>"
   ]
  },
  {
   "cell_type": "code",
   "execution_count": 11,
   "metadata": {},
   "outputs": [
    {
     "name": "stdout",
     "output_type": "stream",
     "text": [
      "Counter Approach: Counter({'a': 3, 'b': 2, 'c': 1})\n",
      "For Loop If-Else Approach: {'a': 3, 'b': 2, 'c': 1}\n"
     ]
    }
   ],
   "source": [
    "# approach 1\n",
    "from collections import Counter\n",
    "items = ['a', 'b', 'a', 'c', 'b', 'a']\n",
    "freq = Counter(items) # one liner\n",
    "print(\"Counter Approach:\",freq)\n",
    "\n",
    "# approach 2\n",
    "freq = {}\n",
    "for e in items:\n",
    "    if e not in freq.keys():\n",
    "        freq[e] = 1\n",
    "    else:\n",
    "        freq[e] += 1\n",
    "print(\"For Loop If-Else Approach:\",freq)\n",
    "        "
   ]
  },
  {
   "cell_type": "markdown",
   "metadata": {},
   "source": [
    "Usage of Counter from std python collection lib makes it easy to tally up element occurences. Alternatively usage of a for-loop is also acceptable; however, is verbose and non-pythonic."
   ]
  },
  {
   "cell_type": "markdown",
   "metadata": {},
   "source": [
    "# Loops\n",
    "## B1 \n",
    "Write a for loop printing 1 to 10\n",
    "## B2\n",
    "Write a for loop printing 1 to 10, but in steps of 2 (e.g. 1, 3, 5, 7, 9)"
   ]
  },
  {
   "cell_type": "code",
   "execution_count": 12,
   "metadata": {},
   "outputs": [
    {
     "name": "stdout",
     "output_type": "stream",
     "text": [
      "B1:\n",
      "Vertical 1 Print:\n",
      "0\n",
      "1\n",
      "2\n",
      "3\n",
      "4\n",
      "5\n",
      "6\n",
      "7\n",
      "8\n",
      "9\n",
      "10\n",
      "\n",
      "Vertical 2 Print:\n",
      "0\n",
      "1\n",
      "2\n",
      "3\n",
      "4\n",
      "5\n",
      "6\n",
      "7\n",
      "8\n",
      "9\n",
      "10\n",
      "\n",
      "Horizontal Print:\n",
      "0,1,2,3,4,5,6,7,8,9,10\n",
      "\n",
      "B2:\n",
      "Vertical Print:\n",
      "1\n",
      "3\n",
      "5\n",
      "7\n",
      "9\n",
      "\n",
      "Horizontal Print:\n",
      "1,3,5,7,9\n"
     ]
    }
   ],
   "source": [
    "# B1)\n",
    "print(\"B1:\")\n",
    "items = [a for a in range(11)]\n",
    "print(\"Vertical 1 Print:\")\n",
    "# vertical print\n",
    "for i in items:\n",
    "    print(i)\n",
    "print()\n",
    "print(\"Vertical 2 Print:\")\n",
    "print(\"\\n\".join([str(i) for i in items]))\n",
    "print()\n",
    "\n",
    "print(\"Horizontal Print:\")\n",
    "# horiztontally joined\n",
    "print(\",\".join([str(i) for i in items]))\n",
    "print()\n",
    "\n",
    "# B2)\n",
    "print(\"B2:\")\n",
    "print(\"Vertical Print:\")\n",
    "for i in range(1, len(items), 2):\n",
    "    print(items[i])\n",
    "print()\n",
    "print(\"Horizontal Print:\")\n",
    "print(\",\".join([str(items[i]) for i in range(1, len(items), 2)]))\n"
   ]
  },
  {
   "cell_type": "markdown",
   "metadata": {},
   "source": [
    "Either horizontal or vertical methods of printing the list of elements would have been acceptable per the requirement of using a for-loop. Alternative methods of solving the problem were explored for understanding different use cases (horizontal/vertical) as well as syntatical complexity & verbosity (one liners with list comprehension and str.join)."
   ]
  },
  {
   "cell_type": "markdown",
   "metadata": {},
   "source": [
    "# If-Else<br>\n",
    "A1 - Write if/else to print if a number if odd or even<br>\n",
    "A2 - Write if-else-if-else to print grade.<br>\n",
    "If score > 90 grade is A.<br>\n",
    "If score is between 80 and 90 then grade is B.<br>\n",
    "If score is between 70 and 80 then grade is C.<br>"
   ]
  },
  {
   "cell_type": "code",
   "execution_count": 13,
   "metadata": {},
   "outputs": [
    {
     "name": "stdout",
     "output_type": "stream",
     "text": [
      "Your grade is: B\n"
     ]
    }
   ],
   "source": [
    "score = 85\n",
    "grade = \"NA\"\n",
    "if score > 90:\n",
    "    grade = \"A\"\n",
    "elif score > 80 and score < 90:\n",
    "    grade = \"B\"\n",
    "elif score > 70 and score < 80:\n",
    "    grade = \"C\"\n",
    "print(\"Your grade is:\",grade)\n",
    "    "
   ]
  },
  {
   "cell_type": "code",
   "execution_count": 16,
   "metadata": {},
   "outputs": [],
   "source": [
    "# one liner\n",
    "grade = \"A\" if (score > 90) else \"B\" if( score > 80 and score < 90) else \"C\" if (score > 70 and score <80) else \"NA\"\n",
    "print(\"Your grade is:\",grade)"
   ]
  },
  {
   "attachments": {},
   "cell_type": "markdown",
   "metadata": {},
   "source": [
    "Solutions show cases of acceptable answers while providing examples of contrasting readability. Note that the 2nd solution requires usage of else for the one-line expression to be interpretted correctly. \n"
   ]
  },
  {
   "attachments": {
    "image.png": {
     "image/png": "[encoded data removed]"
    }
   },
   "cell_type": "markdown",
   "metadata": {},
   "source": [
    "![image.png](attachment:image.png)"
   ]
  },
  {
   "cell_type": "markdown",
   "metadata": {},
   "source": [
    "Observing that there are multitple if-then statements in the problem. We can devise the solution by drawing from the logic shown in the truth above. Note that \"elif\" means the phrase \"...else if...\" suggesting a continuation into another conditional statement."
   ]
  }
 ],
 "metadata": {
  "kernelspec": {
   "display_name": "Python 3",
   "language": "python",
   "name": "python3"
  },
  "language_info": {
   "codemirror_mode": {
    "name": "ipython",
    "version": 3
   },
   "file_extension": ".py",
   "mimetype": "text/x-python",
   "name": "python",
   "nbconvert_exporter": "python",
   "pygments_lexer": "ipython3",
   "version": "3.8.5"
  }
 },
 "nbformat": 4,
 "nbformat_minor": 4
}
