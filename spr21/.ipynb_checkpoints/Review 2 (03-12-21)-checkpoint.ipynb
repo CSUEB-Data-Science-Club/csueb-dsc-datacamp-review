{
 "cells": [
  {
   "cell_type": "markdown",
   "metadata": {},
   "source": [
    "# Args & Kwargs\n",
    "* Args: usage of packing operator '*'\n",
    "* Kwargs: usage of double packing operators '**'\n"
   ]
  },
  {
   "cell_type": "code",
   "execution_count": 2,
   "metadata": {},
   "outputs": [
    {
     "name": "stdout",
     "output_type": "stream",
     "text": [
      "type: <class 'tuple'>\n",
      "# of arguments packed: 5\n",
      "arguments: (1, 3, 4, 5, 6)\n"
     ]
    }
   ],
   "source": [
    "def foo(*args):\n",
    "    print(\"type:\",type(args))\n",
    "    print(\"# of arguments packed:\", len(args))\n",
    "    print(\"arguments:\", args)\n",
    "    \n",
    "foo(1,3,4,5,6)"
   ]
  },
  {
   "cell_type": "code",
   "execution_count": 8,
   "metadata": {},
   "outputs": [
    {
     "name": "stdout",
     "output_type": "stream",
     "text": [
      "type: <class 'dict'>\n",
      "# of arguments packed: 3\n",
      "arguments: {'x': 3, 'y': 5, 'z': 7}\n",
      "dict_keys(['x', 'y', 'z'])\n"
     ]
    }
   ],
   "source": [
    "def foo(**kwargs):\n",
    "    print(\"type:\",type(kwargs))\n",
    "    print(\"# of arguments packed:\", len(kwargs))\n",
    "    print(\"arguments:\", kwargs)\n",
    "    \n",
    "\n",
    "foo(x=3, y=5, z=7)"
   ]
  },
  {
   "cell_type": "markdown",
   "metadata": {},
   "source": [
    "# Why use args & kwargs?\n",
    "* To define decorator functions in which arguments are typically not known upfront\n",
    "* To allow an arbitrary number of arguments to be specified\n",
    "* To allow for extension of an existing function in a subclass and persist functionality of the subclass function extension even if the superclass changes in the future\n",
    "\n",
    "```sh\n",
    "class MySubclass(Superclass):\n",
    "    def __init__(self, *args, **kwargs):\n",
    "        self.myvalue = kwargs.pop('myvalue', None)\n",
    "        super(MySubclass, self).__init__(*args, **kwargs)\n",
    "```"
   ]
  },
  {
   "cell_type": "code",
   "execution_count": 11,
   "metadata": {},
   "outputs": [],
   "source": [
    "x = 3\n",
    "assert x == 3"
   ]
  },
  {
   "cell_type": "code",
   "execution_count": null,
   "metadata": {},
   "outputs": [],
   "source": []
  }
 ],
 "metadata": {
  "kernelspec": {
   "display_name": "Python 3",
   "language": "python",
   "name": "python3"
  },
  "language_info": {
   "codemirror_mode": {
    "name": "ipython",
    "version": 3
   },
   "file_extension": ".py",
   "mimetype": "text/x-python",
   "name": "python",
   "nbconvert_exporter": "python",
   "pygments_lexer": "ipython3",
   "version": "3.8.5"
  }
 },
 "nbformat": 4,
 "nbformat_minor": 4
}
