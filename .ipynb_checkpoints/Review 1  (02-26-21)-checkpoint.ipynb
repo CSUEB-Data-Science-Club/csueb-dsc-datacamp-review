{
 "cells": [
  {
   "cell_type": "code",
   "execution_count": 18,
   "metadata": {},
   "outputs": [],
   "source": [
    "import numpy as np\n",
    "from matplotlib import pyplot as plt\n",
    "import pandas as pd\n",
    "import seaborn as sns"
   ]
  },
  {
   "cell_type": "markdown",
   "metadata": {},
   "source": [
    "B2 - Create a numpy array of numbers from 1 to 10. Print out elements after index 2 (★☆☆)<br>\n",
    "Hint: np.arange and [2:]<br>\n",
    "Expected result: [3,4,5,6,7,8,9,10]<br>"
   ]
  },
  {
   "cell_type": "code",
   "execution_count": 11,
   "metadata": {},
   "outputs": [
    {
     "data": {
      "text/plain": [
       "array([ 3,  4,  5,  6,  7,  8,  9, 10])"
      ]
     },
     "execution_count": 11,
     "metadata": {},
     "output_type": "execute_result"
    }
   ],
   "source": [
    "numbers = np.arange(1,11)\n",
    "numbers[2:]"
   ]
  },
  {
   "cell_type": "markdown",
   "metadata": {},
   "source": [
    "D2 - Create a multi-dimensional 3x3x3 array with random numbers between 1 and 10. Print out the sum of all elemenets (★★☆)<br>\n",
    "Hint: np.sum<br>"
   ]
  },
  {
   "cell_type": "code",
   "execution_count": 12,
   "metadata": {},
   "outputs": [
    {
     "data": {
      "text/plain": [
       "145"
      ]
     },
     "execution_count": 12,
     "metadata": {},
     "output_type": "execute_result"
    }
   ],
   "source": [
    "m = np.random.randint(0,10,(3,3,3))\n",
    "np.sum(m)"
   ]
  },
  {
   "cell_type": "markdown",
   "metadata": {},
   "source": [
    "A4 - Create the following dataframe (★☆☆)<br>\n",
    "Part 1)<br>\n",
    "Expected output:<br>\n",
    "           city  \t\tpopulation  \trainfall<br>\n",
    "0       \tSan Jose          \t10      \t15.5<br>\n",
    "1  \tSan Francisco          \t 5      \t10.2<br>\n",
    "2    \tLos Angeles          \t30       5.5<br>\n",
    "3        \tSeattle           \t\t7      \t50.5<br><br>\n",
    "Part 2) <br>\n",
    "Create a bar chart using the data from A4 plotting the city vs rainfall.<br>"
   ]
  },
  {
   "cell_type": "code",
   "execution_count": 15,
   "metadata": {},
   "outputs": [
    {
     "data": {
      "text/html": [
       "<div>\n",
       "<style scoped>\n",
       "    .dataframe tbody tr th:only-of-type {\n",
       "        vertical-align: middle;\n",
       "    }\n",
       "\n",
       "    .dataframe tbody tr th {\n",
       "        vertical-align: top;\n",
       "    }\n",
       "\n",
       "    .dataframe thead th {\n",
       "        text-align: right;\n",
       "    }\n",
       "</style>\n",
       "<table border=\"1\" class=\"dataframe\">\n",
       "  <thead>\n",
       "    <tr style=\"text-align: right;\">\n",
       "      <th></th>\n",
       "      <th>city</th>\n",
       "      <th>population</th>\n",
       "      <th>rainfall</th>\n",
       "    </tr>\n",
       "  </thead>\n",
       "  <tbody>\n",
       "    <tr>\n",
       "      <th>0</th>\n",
       "      <td>San Jose</td>\n",
       "      <td>10</td>\n",
       "      <td>15.5</td>\n",
       "    </tr>\n",
       "    <tr>\n",
       "      <th>1</th>\n",
       "      <td>San Francisco</td>\n",
       "      <td>5</td>\n",
       "      <td>10.2</td>\n",
       "    </tr>\n",
       "    <tr>\n",
       "      <th>2</th>\n",
       "      <td>Los Angeles</td>\n",
       "      <td>30</td>\n",
       "      <td>5.5</td>\n",
       "    </tr>\n",
       "    <tr>\n",
       "      <th>3</th>\n",
       "      <td>Seattle</td>\n",
       "      <td>7</td>\n",
       "      <td>50.5</td>\n",
       "    </tr>\n",
       "  </tbody>\n",
       "</table>\n",
       "</div>"
      ],
      "text/plain": [
       "            city  population  rainfall\n",
       "0       San Jose          10      15.5\n",
       "1  San Francisco           5      10.2\n",
       "2    Los Angeles          30       5.5\n",
       "3        Seattle           7      50.5"
      ]
     },
     "execution_count": 15,
     "metadata": {},
     "output_type": "execute_result"
    }
   ],
   "source": [
    "data_dict = {\n",
    "    \"city\": [\"San Jose\", \"San Francisco\", \"Los Angeles\", \"Seattle\"],\n",
    "    \"population\": [10, 5, 30, 7],\n",
    "    \"rainfall\": [15.5, 10.2, 5.5, 50.5]\n",
    "}\n",
    "df = pd.DataFrame(data_dict)\n",
    "df"
   ]
  },
  {
   "cell_type": "code",
   "execution_count": 23,
   "metadata": {},
   "outputs": [
    {
     "data": {
      "image/png": "[encoded data removed]",
      "text/plain": [
       "<Figure size 432x288 with 1 Axes>"
      ]
     },
     "metadata": {
      "needs_background": "light"
     },
     "output_type": "display_data"
    }
   ],
   "source": [
    "plt.bar(df[\"city\"], df['rainfall'])\n",
    "plt.title(\"City VS RainFall\")\n",
    "plt.xlabel(\"City\")\n",
    "plt.ylabel(\"Rainfall\")\n",
    "plt.show()"
   ]
  },
  {
   "cell_type": "markdown",
   "metadata": {},
   "source": [
    "Ex-1 - Work with 2 lists (★★☆)<br>\n",
    "a = [1,5,2,10,7,4,6]<br>\n",
    "b = [1,4,3]<br>\n",
    "Print all numbers common to a and b (★★☆)<br>\n",
    "Print all numbers unique to a (not in b) (★★☆)<br>"
   ]
  },
  {
   "cell_type": "code",
   "execution_count": 31,
   "metadata": {},
   "outputs": [
    {
     "name": "stdout",
     "output_type": "stream",
     "text": [
      "Common in A and B:\n",
      "List Comprehension [1, 4]\n",
      "Set Approach {1, 4}\n",
      "Unique to A:\n",
      "List Comprehension [2, 5, 6, 7, 10]\n"
     ]
    },
    {
     "data": {
      "text/plain": [
       "{2, 5, 6, 7, 10}"
      ]
     },
     "execution_count": 31,
     "metadata": {},
     "output_type": "execute_result"
    }
   ],
   "source": [
    "a = [1,5,2,10,7,4,6]\n",
    "b = [1,4,3]\n",
    "\n",
    "print(\"Common in A and B:\")\n",
    "# print common in a and b\n",
    "# list comprehension & if condition appraoch\n",
    "common = [e for e in a if e in b]\n",
    "print(\"List Comprehension\",common)\n",
    "\n",
    "# set approach\n",
    "a = set(a)\n",
    "b = set(b)\n",
    "common = b.intersection(a) \n",
    "print(\"Set Approach\",common)\n",
    "\n",
    "print(\"Unique to A:\")\n",
    "unique = [e for e in a if e not in b]\n",
    "print(\"List Comprehension:\", unique)\n",
    "\n",
    "unique = a.difference(b)\n",
    "print(\"Set Approach:\", unique)"
   ]
  },
  {
   "cell_type": "markdown",
   "metadata": {},
   "source": [
    "B2 : Get the frequency of the elements in a list (★★☆)<br>\n",
    "For example if the list is<br>\n",
    "['a', 'b', 'a', 'c', 'b', 'a'] Expected output is :<br>\n",
    " 'a' -> 3,<br>\n",
    "  'b' -> 2,<br>\n",
    "  'c' -> 1<br>"
   ]
  },
  {
   "cell_type": "markdown",
   "metadata": {},
   "source": [
    "Loops<br>\n",
    "B1 - Write a for loop printing 1 to 10<br>\n",
    "B2 - write a for loop printing 1 to 10, but in steps of 2 (e.g. 1, 3, 5, 7, 9)<br>"
   ]
  },
  {
   "cell_type": "markdown",
   "metadata": {},
   "source": [
    "If-Else<br>\n",
    "A1 - Write if/else to print if a number if odd or even<br>\n",
    "A2 - Write if-else-if-else to print grade.<br>\n",
    "If score > 90 grade is A.<br>\n",
    "If score is between 80 and 90 then grade is B.<br>\n",
    "If score is between 70 and 80 then grade is C.<br>"
   ]
  }
 ],
 "metadata": {
  "kernelspec": {
   "display_name": "Python 3",
   "language": "python",
   "name": "python3"
  },
  "language_info": {
   "codemirror_mode": {
    "name": "ipython",
    "version": 3
   },
   "file_extension": ".py",
   "mimetype": "text/x-python",
   "name": "python",
   "nbconvert_exporter": "python",
   "pygments_lexer": "ipython3",
   "version": "3.8.5"
  }
 },
 "nbformat": 4,
 "nbformat_minor": 4
}
